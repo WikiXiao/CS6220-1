{
 "cells": [
  {
   "cell_type": "markdown",
   "metadata": {},
   "source": [
    "## Numbers of Business in each State\n",
    "## Pick up photos of the business in the top 3 state."
   ]
  },
  {
   "cell_type": "code",
   "execution_count": 2,
   "metadata": {},
   "outputs": [
    {
     "name": "stdout",
     "output_type": "stream",
     "text": [
      "businessSet\n",
      "126410\n"
     ]
    },
    {
     "data": {
      "image/png": "[encoded data removed]",
      "text/plain": [
       "<Figure size 432x288 with 1 Axes>"
      ]
     },
     "metadata": {
      "needs_background": "light"
     },
     "output_type": "display_data"
    }
   ],
   "source": [
    "import json\n",
    "import collections\n",
    "import matplotlib\n",
    "import matplotlib.pyplot as plt\n",
    "\n",
    "\n",
    "def stateBusinessAnalyze(file) :\n",
    "    stateBusiness = collections.defaultdict(list)\n",
    "    with open(file) as json_file:\n",
    "        result = []\n",
    "        for line in json_file.readlines():\n",
    "            data = json.loads(line)\n",
    "            stateBusiness[data['state']].append(data[\"business_id\"])\n",
    "    return stateBusiness\n",
    "\n",
    "def businessListInTopState(topState, file) :\n",
    "    businessSet = set()\n",
    "    with open(file) as json_file:\n",
    "        result = []\n",
    "        for line in json_file.readlines():\n",
    "            data = json.loads(line)\n",
    "            if data['state'] in topState:\n",
    "                businessSet.add(data[\"business_id\"])\n",
    "    return businessSet\n",
    "\n",
    "\n",
    "\n",
    "if __name__ == '__main__' :\n",
    "    filtered_list = stateBusinessAnalyze(file= './DataSets/yelp_dataset/business.json')\n",
    "    businessNumber = {}\n",
    "    itemList = []\n",
    "    y = []\n",
    "    for item, businessList in filtered_list.items():\n",
    "        businessNumber[item] = len(businessList)\n",
    "        itemList.append(item)\n",
    "        y.append(len(businessList))\n",
    "    \n",
    "    \n",
    "    \n",
    "    itemList.sort(key = lambda x: businessNumber[x], reverse = True)\n",
    "    y.sort(reverse = True)\n",
    "    #print(businessNumber)\n",
    "    \n",
    "    x = range(len(businessNumber))\n",
    "    plt.bar(x, y)\n",
    "    plt.title(\"Numbers of business in each state\")\n",
    "    plt.xticks(x,itemList,rotation = 80)\n",
    "    \n",
    "    topThreeState = itemList[:3]\n",
    "    \n",
    "    businessSet = businessListInTopState(topThreeState, file= '../DataSets/yelp_dataset/business.json')\n",
    "    print(\"businessSet\")\n",
    "    print(len(businessSet))\n",
    "    \n",
    "  \n",
    "    "
   ]
  },
  {
   "cell_type": "markdown",
   "metadata": {},
   "source": [
    "The food classification is one of (\"food\", \"drink\", \"menu\", \"inside\" or \"outside\").\n",
    "\n",
    "We only choose the \"food\" category, because the \"drink\" category is very bad dataset since many drinks are difficult to differentiate.\n",
    "\n",
    "\n",
    "The total number of picture in \"AZ\" is 39826, the food picture number is 22424, the food picture with a not null is 10341.\n",
    "\n",
    "    "
   ]
  },
  {
   "cell_type": "code",
   "execution_count": 4,
   "metadata": {},
   "outputs": [
    {
     "name": "stdout",
     "output_type": "stream",
     "text": [
      "43599\n"
     ]
    }
   ],
   "source": [
    "def photosInTopStateBusiness(businessSet, file) :\n",
    "    photoSet = set()\n",
    "    photoComment = dict()\n",
    "    with open(file) as json_file:\n",
    "        result = []\n",
    "        for line in json_file.readlines():\n",
    "            data = json.loads(line)\n",
    "            #photoSet.add(data[\"photo_id\"])\n",
    "            if data['business_id'] in businessSet and data[\"label\"] == \"food\" and data[\"caption\"]:\n",
    "                photoSet.add(data[\"photo_id\"])\n",
    "                photoComment[data[\"photo_id\"]]= data[\"caption\"]\n",
    "    return photoComment\n",
    "\n",
    "\n",
    "if __name__ == '__main__' :\n",
    "    photoComment = photosInTopStateBusiness(businessSet, file= '../DataSets/yelp_dataset/photo.json')\n",
    "    print(len(photoComment.keys()))\n",
    "    with open(\"./foodComment.txt\", \"w\") as commentFile:\n",
    "        for food, comment in photoComment.items():\n",
    "            commentFile.write(food+\"\\t\")\n",
    "            comment = comment.replace(\"\\n\", \" \")\n",
    "            comment = comment.replace(\"\\r\", \" \")\n",
    "            comment = comment.replace(\"\\r\\n\", \" \")\n",
    "            commentFile.write(comment+\"\\n\")"
   ]
  },
  {
   "cell_type": "markdown",
   "metadata": {},
   "source": [
    "# Let us manually pick several categories for the food. We assume that if the class name occurs in the caption of one food, the food belongs to that class category. "
   ]
  },
  {
   "cell_type": "markdown",
   "metadata": {},
   "source": [
    "# Let us pick the following food category.\n",
    "# There is some weird characters in the foodComment.txt file, I have manually cleaned them\n",
    "# The number of food is 60"
   ]
  },
  {
   "cell_type": "code",
   "execution_count": 7,
   "metadata": {
    "scrolled": true
   },
   "outputs": [
    {
     "name": "stdout",
     "output_type": "stream",
     "text": [
      "foodClass 10\n",
      "numofClass 10\n",
      "Food pizza, Numbers 895\n",
      "Food sushi, Numbers 614\n",
      "Food steak, Numbers 648\n",
      "Food waffles, Numbers 424\n",
      "Food fried_rice, Numbers 369\n",
      "Food tacos, Numbers 981\n",
      "Food dumplings, Numbers 232\n",
      "Food mussels, Numbers 163\n",
      "Food cheesecake, Numbers 212\n",
      "Food donuts, Numbers 143\n"
     ]
    },
    {
     "data": {
      "text/plain": [
       "([<matplotlib.axis.XTick at 0x1224fb128>,\n",
       "  <matplotlib.axis.XTick at 0x1224f8a20>,\n",
       "  <matplotlib.axis.XTick at 0x1224f8748>,\n",
       "  <matplotlib.axis.XTick at 0x12237b240>,\n",
       "  <matplotlib.axis.XTick at 0x12237b6d8>,\n",
       "  <matplotlib.axis.XTick at 0x12237bba8>,\n",
       "  <matplotlib.axis.XTick at 0x122386128>,\n",
       "  <matplotlib.axis.XTick at 0x122386588>,\n",
       "  <matplotlib.axis.XTick at 0x122386a58>,\n",
       "  <matplotlib.axis.XTick at 0x12237b550>],\n",
       " <a list of 10 Text xticklabel objects>)"
      ]
     },
     "execution_count": 7,
     "metadata": {},
     "output_type": "execute_result"
    },
    {
     "data": {
      "image/png": "[encoded data removed]",
      "text/plain": [
       "<Figure size 432x288 with 1 Axes>"
      ]
     },
     "metadata": {
      "needs_background": "light"
     },
     "output_type": "display_data"
    }
   ],
   "source": [
    "import collections\n",
    "import matplotlib\n",
    "import matplotlib.pyplot as plt\n",
    "\n",
    "foodClass = {\"cheesecake\", \"mussels\", \"waffles\", \"pizza\", \"fried_rice\", \"dumplings\",  \"steak\", \"tacos\", \"donuts\", \"sushi\"}\n",
    "\n",
    "print(\"foodClass\",len(foodClass))\n",
    "print(\"numofClass\", len(foodClass))\n",
    "photoIdInEachClass = collections.defaultdict(list)\n",
    "with open(\"./foodComment.txt\") as commentFile:\n",
    "    for line in commentFile.readlines():\n",
    "        if not line:\n",
    "            continue            \n",
    "        result = line.split()\n",
    "        photoId = result[0]\n",
    "        comment = \" \".join(result[1:])\n",
    "        for character in \",.!:@&-/()+?\":\n",
    "            comment = comment.replace(character, \" \")       \n",
    "        words = comment.split()\n",
    "        words = [word.lower() for word in words]\n",
    " \n",
    "        if \"fried\" in words and \"rice\" in words:\n",
    "            photoIdInEachClass[\"fried_rice\"].append(photoId)\n",
    "            continue\n",
    "        for word in words:\n",
    "            if len(word)<2:\n",
    "                continue\n",
    "            wordminuss = word[:len(word)-1]\n",
    "            wordpluss = word + \"s\"\n",
    "            if word in foodClass:\n",
    "                photoIdInEachClass[word.lower()].append(photoId)\n",
    "            elif wordpluss in foodClass:\n",
    "                photoIdInEachClass[wordpluss.lower()].append(photoId)\n",
    "            elif wordminuss in foodClass:\n",
    "                photoIdInEachClass[wordminuss.lower()].append(photoId)\n",
    "    \n",
    "for foodName, photos in photoIdInEachClass.items():\n",
    "    print(\"Food %s, Numbers %d\"%(foodName,len(photos)))\n",
    "\n",
    "xLabels = photoIdInEachClass.keys()\n",
    "x = range(len(xLabels))\n",
    "y = [len(photoList) for photoList in  photoIdInEachClass.values()]\n",
    "plt.bar(x, y)\n",
    "plt.title(\"Numbers of food in each category\")\n",
    "plt.xticks(x,xLabels,rotation = 45)"
   ]
  },
  {
   "cell_type": "code",
   "execution_count": 8,
   "metadata": {},
   "outputs": [
    {
     "name": "stdout",
     "output_type": "stream",
     "text": [
      "Food  cheesecake\n"
     ]
    },
    {
     "ename": "FileNotFoundError",
     "evalue": "[Errno 2] No such file or directory: '../DataSets/yelp_photos/photos/4XRTqSFmCo6VNrq-rXi24A.jpg'",
     "output_type": "error",
     "traceback": [
      "\u001b[0;31m---------------------------------------------------------------------------\u001b[0m",
      "\u001b[0;31mFileNotFoundError\u001b[0m                         Traceback (most recent call last)",
      "\u001b[0;32m<ipython-input-8-fd697334bb0b>\u001b[0m in \u001b[0;36m<module>\u001b[0;34m\u001b[0m\n\u001b[1;32m     14\u001b[0m \u001b[0;34m\u001b[0m\u001b[0m\n\u001b[1;32m     15\u001b[0m \u001b[0;32mfor\u001b[0m \u001b[0mfood\u001b[0m \u001b[0;32min\u001b[0m \u001b[0mfoodClass\u001b[0m\u001b[0;34m:\u001b[0m\u001b[0;34m\u001b[0m\u001b[0;34m\u001b[0m\u001b[0m\n\u001b[0;32m---> 16\u001b[0;31m     \u001b[0mprepare_data\u001b[0m\u001b[0;34m(\u001b[0m\u001b[0mfood\u001b[0m\u001b[0;34m,\u001b[0m \u001b[0;34m\"../DataSets/yelp_photos/photos\"\u001b[0m\u001b[0;34m,\u001b[0m \u001b[0;34m\"./cleanedDatasets\"\u001b[0m\u001b[0;34m)\u001b[0m\u001b[0;34m\u001b[0m\u001b[0;34m\u001b[0m\u001b[0m\n\u001b[0m",
      "\u001b[0;32m<ipython-input-8-fd697334bb0b>\u001b[0m in \u001b[0;36mprepare_data\u001b[0;34m(food, src, dest)\u001b[0m\n\u001b[1;32m     10\u001b[0m     \u001b[0;32mfor\u001b[0m \u001b[0mphotoId\u001b[0m \u001b[0;32min\u001b[0m \u001b[0mphotoIdInEachClass\u001b[0m\u001b[0;34m[\u001b[0m\u001b[0mfood\u001b[0m\u001b[0;34m]\u001b[0m\u001b[0;34m:\u001b[0m\u001b[0;34m\u001b[0m\u001b[0;34m\u001b[0m\u001b[0m\n\u001b[1;32m     11\u001b[0m         \u001b[0mphotoId\u001b[0m \u001b[0;34m=\u001b[0m \u001b[0mphotoId\u001b[0m\u001b[0;34m+\u001b[0m\u001b[0;34m\".jpg\"\u001b[0m\u001b[0;34m\u001b[0m\u001b[0;34m\u001b[0m\u001b[0m\n\u001b[0;32m---> 12\u001b[0;31m         \u001b[0mcopy\u001b[0m\u001b[0;34m(\u001b[0m\u001b[0mos\u001b[0m\u001b[0;34m.\u001b[0m\u001b[0mpath\u001b[0m\u001b[0;34m.\u001b[0m\u001b[0mjoin\u001b[0m\u001b[0;34m(\u001b[0m\u001b[0msrc\u001b[0m\u001b[0;34m,\u001b[0m \u001b[0mphotoId\u001b[0m\u001b[0;34m)\u001b[0m\u001b[0;34m,\u001b[0m\u001b[0mos\u001b[0m\u001b[0;34m.\u001b[0m\u001b[0mpath\u001b[0m\u001b[0;34m.\u001b[0m\u001b[0mjoin\u001b[0m\u001b[0;34m(\u001b[0m\u001b[0mdest\u001b[0m\u001b[0;34m,\u001b[0m \u001b[0mfood\u001b[0m\u001b[0;34m,\u001b[0m \u001b[0mphotoId\u001b[0m\u001b[0;34m)\u001b[0m\u001b[0;34m)\u001b[0m\u001b[0;34m\u001b[0m\u001b[0;34m\u001b[0m\u001b[0m\n\u001b[0m\u001b[1;32m     13\u001b[0m     \u001b[0mprint\u001b[0m\u001b[0;34m(\u001b[0m\u001b[0;34m\"Copying Finished!\"\u001b[0m\u001b[0;34m)\u001b[0m\u001b[0;34m\u001b[0m\u001b[0;34m\u001b[0m\u001b[0m\n\u001b[1;32m     14\u001b[0m \u001b[0;34m\u001b[0m\u001b[0m\n",
      "\u001b[0;32m~/anaconda3/lib/python3.7/shutil.py\u001b[0m in \u001b[0;36mcopy\u001b[0;34m(src, dst, follow_symlinks)\u001b[0m\n\u001b[1;32m    243\u001b[0m     \u001b[0;32mif\u001b[0m \u001b[0mos\u001b[0m\u001b[0;34m.\u001b[0m\u001b[0mpath\u001b[0m\u001b[0;34m.\u001b[0m\u001b[0misdir\u001b[0m\u001b[0;34m(\u001b[0m\u001b[0mdst\u001b[0m\u001b[0;34m)\u001b[0m\u001b[0;34m:\u001b[0m\u001b[0;34m\u001b[0m\u001b[0;34m\u001b[0m\u001b[0m\n\u001b[1;32m    244\u001b[0m         \u001b[0mdst\u001b[0m \u001b[0;34m=\u001b[0m \u001b[0mos\u001b[0m\u001b[0;34m.\u001b[0m\u001b[0mpath\u001b[0m\u001b[0;34m.\u001b[0m\u001b[0mjoin\u001b[0m\u001b[0;34m(\u001b[0m\u001b[0mdst\u001b[0m\u001b[0;34m,\u001b[0m \u001b[0mos\u001b[0m\u001b[0;34m.\u001b[0m\u001b[0mpath\u001b[0m\u001b[0;34m.\u001b[0m\u001b[0mbasename\u001b[0m\u001b[0;34m(\u001b[0m\u001b[0msrc\u001b[0m\u001b[0;34m)\u001b[0m\u001b[0;34m)\u001b[0m\u001b[0;34m\u001b[0m\u001b[0;34m\u001b[0m\u001b[0m\n\u001b[0;32m--> 245\u001b[0;31m     \u001b[0mcopyfile\u001b[0m\u001b[0;34m(\u001b[0m\u001b[0msrc\u001b[0m\u001b[0;34m,\u001b[0m \u001b[0mdst\u001b[0m\u001b[0;34m,\u001b[0m \u001b[0mfollow_symlinks\u001b[0m\u001b[0;34m=\u001b[0m\u001b[0mfollow_symlinks\u001b[0m\u001b[0;34m)\u001b[0m\u001b[0;34m\u001b[0m\u001b[0;34m\u001b[0m\u001b[0m\n\u001b[0m\u001b[1;32m    246\u001b[0m     \u001b[0mcopymode\u001b[0m\u001b[0;34m(\u001b[0m\u001b[0msrc\u001b[0m\u001b[0;34m,\u001b[0m \u001b[0mdst\u001b[0m\u001b[0;34m,\u001b[0m \u001b[0mfollow_symlinks\u001b[0m\u001b[0;34m=\u001b[0m\u001b[0mfollow_symlinks\u001b[0m\u001b[0;34m)\u001b[0m\u001b[0;34m\u001b[0m\u001b[0;34m\u001b[0m\u001b[0m\n\u001b[1;32m    247\u001b[0m     \u001b[0;32mreturn\u001b[0m \u001b[0mdst\u001b[0m\u001b[0;34m\u001b[0m\u001b[0;34m\u001b[0m\u001b[0m\n",
      "\u001b[0;32m~/anaconda3/lib/python3.7/shutil.py\u001b[0m in \u001b[0;36mcopyfile\u001b[0;34m(src, dst, follow_symlinks)\u001b[0m\n\u001b[1;32m    118\u001b[0m         \u001b[0mos\u001b[0m\u001b[0;34m.\u001b[0m\u001b[0msymlink\u001b[0m\u001b[0;34m(\u001b[0m\u001b[0mos\u001b[0m\u001b[0;34m.\u001b[0m\u001b[0mreadlink\u001b[0m\u001b[0;34m(\u001b[0m\u001b[0msrc\u001b[0m\u001b[0;34m)\u001b[0m\u001b[0;34m,\u001b[0m \u001b[0mdst\u001b[0m\u001b[0;34m)\u001b[0m\u001b[0;34m\u001b[0m\u001b[0;34m\u001b[0m\u001b[0m\n\u001b[1;32m    119\u001b[0m     \u001b[0;32melse\u001b[0m\u001b[0;34m:\u001b[0m\u001b[0;34m\u001b[0m\u001b[0;34m\u001b[0m\u001b[0m\n\u001b[0;32m--> 120\u001b[0;31m         \u001b[0;32mwith\u001b[0m \u001b[0mopen\u001b[0m\u001b[0;34m(\u001b[0m\u001b[0msrc\u001b[0m\u001b[0;34m,\u001b[0m \u001b[0;34m'rb'\u001b[0m\u001b[0;34m)\u001b[0m \u001b[0;32mas\u001b[0m \u001b[0mfsrc\u001b[0m\u001b[0;34m:\u001b[0m\u001b[0;34m\u001b[0m\u001b[0;34m\u001b[0m\u001b[0m\n\u001b[0m\u001b[1;32m    121\u001b[0m             \u001b[0;32mwith\u001b[0m \u001b[0mopen\u001b[0m\u001b[0;34m(\u001b[0m\u001b[0mdst\u001b[0m\u001b[0;34m,\u001b[0m \u001b[0;34m'wb'\u001b[0m\u001b[0;34m)\u001b[0m \u001b[0;32mas\u001b[0m \u001b[0mfdst\u001b[0m\u001b[0;34m:\u001b[0m\u001b[0;34m\u001b[0m\u001b[0;34m\u001b[0m\u001b[0m\n\u001b[1;32m    122\u001b[0m                 \u001b[0mcopyfileobj\u001b[0m\u001b[0;34m(\u001b[0m\u001b[0mfsrc\u001b[0m\u001b[0;34m,\u001b[0m \u001b[0mfdst\u001b[0m\u001b[0;34m)\u001b[0m\u001b[0;34m\u001b[0m\u001b[0;34m\u001b[0m\u001b[0m\n",
      "\u001b[0;31mFileNotFoundError\u001b[0m: [Errno 2] No such file or directory: '../DataSets/yelp_photos/photos/4XRTqSFmCo6VNrq-rXi24A.jpg'"
     ]
    }
   ],
   "source": [
    "import os\n",
    "from shutil import copy\n",
    "import random\n",
    "\n",
    "\n",
    "def prepare_data(food, src,dest):\n",
    "    print(\"Food \", food)\n",
    "    if not os.path.exists(os.path.join(dest,food)):\n",
    "        os.makedirs(os.path.join(dest,food))\n",
    "    for photoId in photoIdInEachClass[food]:\n",
    "        photoId = photoId+\".jpg\"\n",
    "        copy(os.path.join(src, photoId),os.path.join(dest, food, photoId))\n",
    "    print(\"Copying Finished!\")\n",
    "             \n",
    "for food in foodClass:\n",
    "    prepare_data(food, \"../DataSets/yelp_photos/photos\", \"./cleanedDatasets\")\n"
   ]
  },
  {
   "cell_type": "code",
   "execution_count": null,
   "metadata": {},
   "outputs": [],
   "source": []
  },
  {
   "cell_type": "code",
   "execution_count": null,
   "metadata": {},
   "outputs": [],
   "source": []
  },
  {
   "cell_type": "code",
   "execution_count": null,
   "metadata": {},
   "outputs": [],
   "source": []
  }
 ],
 "metadata": {
  "kernelspec": {
   "display_name": "Python 3",
   "language": "python",
   "name": "python3"
  },
  "language_info": {
   "codemirror_mode": {
    "name": "ipython",
    "version": 3
   },
   "file_extension": ".py",
   "mimetype": "text/x-python",
   "name": "python",
   "nbconvert_exporter": "python",
   "pygments_lexer": "ipython3",
   "version": "3.7.3"
  }
 },
 "nbformat": 4,
 "nbformat_minor": 2
}
